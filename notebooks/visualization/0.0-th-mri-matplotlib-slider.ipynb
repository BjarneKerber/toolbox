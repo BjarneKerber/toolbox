{
 "cells": [
  {
   "cell_type": "code",
   "execution_count": 2,
   "metadata": {},
   "outputs": [],
   "source": [
    "%matplotlib Notebook"
   ]
  },
  {
   "cell_type": "code",
   "execution_count": 3,
   "metadata": {},
   "outputs": [],
   "source": [
    "%load_ext autoreload\n",
    "%autoreload 2"
   ]
  },
  {
   "cell_type": "code",
   "execution_count": 4,
   "metadata": {},
   "outputs": [],
   "source": [
    "from matplotlib.widgets import Slider, Button\n",
    "import matplotlib.pyplot as plt\n",
    "import nibabel as nib\n",
    "import numpy as np\n",
    "\n",
    "from midastools.visualization.viewer import MRISlider, MRITracker"
   ]
  },
  {
   "cell_type": "code",
   "execution_count": null,
   "metadata": {},
   "outputs": [],
   "source": [
    "def custom_plot(axis, data, masked_labels,\n",
    "                     vmin=0.0, vmax=10.0,\n",
    "                     cmap='coolwarm',\n",
    "                     alpha=0.6):\n",
    "\n",
    "        plt_data = axis.imshow(data[:, :, 0], cmap=\"gray\", vmin=vmin, vmax=vmax)\n",
    "        plt_label = axis.imshow(masked_labels[:, :, 0], alpha=alpha, cmap=cmap)\n",
    "        return plt_data, plt_label\n",
    "\n",
    "path_to_sequence = \"/mnt/share/raheppt1/BClesions/tumor/0001/sequences/0001_petsuv.nii\"\n",
    "path_to_label =  \"/mnt/share/raheppt1/BClesions/tumor/0001/labels/iso_0001_tumor.nii.gz\"\n",
    "    \n",
    "sequence = nib.load(path_to_sequence).get_fdata()\n",
    "label = nib.load(path_to_label).get_fdata()\n",
    "        \n",
    "MRISlider(sequence, label, custom_plot=custom_plot)"
   ]
  },
  {
   "cell_type": "code",
   "execution_count": null,
   "metadata": {},
   "outputs": [],
   "source": [
    "fig, ax = plt.subplots(figsize=(10,10))\n",
    "\n",
    "img_path = '/mnt/share/raheppt1/NAKO/Tho_COR/000/sequence/100000_MRA_Tho_COR.nii'\n",
    "data = nib.load(img_path).get_fdata()\n",
    "\n",
    "tracker = MRITracker(ax, data)\n",
    "\n",
    "fig.canvas.mpl_connect('scroll_event', tracker.onscroll)\n",
    "plt.show()"
   ]
  },
  {
   "cell_type": "code",
   "execution_count": null,
   "metadata": {},
   "outputs": [],
   "source": []
  }
 ],
 "metadata": {
  "kernelspec": {
   "display_name": "Python 3",
   "language": "python",
   "name": "python3"
  },
  "language_info": {
   "codemirror_mode": {
    "name": "ipython",
    "version": 3
   },
   "file_extension": ".py",
   "mimetype": "text/x-python",
   "name": "python",
   "nbconvert_exporter": "python",
   "pygments_lexer": "ipython3",
   "version": "3.7.4"
  }
 },
 "nbformat": 4,
 "nbformat_minor": 2
}
